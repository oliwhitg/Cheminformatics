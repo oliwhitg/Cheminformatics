{
 "cells": [
  {
   "cell_type": "code",
   "execution_count": 100,
   "metadata": {},
   "outputs": [],
   "source": [
    "from sklearn.neural_network import MLPRegressor\n",
    "import pandas\n",
    "import numpy as np\n",
    "from sklearn.preprocessing import StandardScaler\n",
    "import sklearn.model_selection as model_selection\n",
    "from sklearn.linear_model import LinearRegression\n",
    "import statsmodels.api as sm\n",
    "#from statsmodels.sandbox.regression.predstd import wls_prediction_st\n",
    "import pandas \n",
    "from rdkit import Chem\n",
    "import numpy \n",
    "import matplotlib.pyplot as plt\n",
    "from rdkit.Chem.Fingerprints import FingerprintMols\n",
    "from rdkit import DataStructs\n",
    "from rdkit.Chem import AllChem\n",
    "from sklearn.model_selection import train_test_split\n",
    "from sklearn.ensemble import RandomForestRegressor"
   ]
  },
  {
   "cell_type": "code",
   "execution_count": 101,
   "metadata": {},
   "outputs": [],
   "source": [
    "data_source = \"/home/oli/PycharmProjects/cheminformatics/data/\"\n",
    "data =  pandas.read_csv(data_source + 'raw/training_subset.csv')\n",
    "data1 = data.copy()\n",
    "data1['Solubility'] = numpy.log10(data1['S0 (mM)'])\n",
    "data1 = data1.drop(columns=['S0 (mM)'])"
   ]
  },
  {
   "cell_type": "code",
   "execution_count": 102,
   "metadata": {},
   "outputs": [],
   "source": [
    "data =  pandas.read_csv(data_source + 'raw/processed_test_subset.csv')\n",
    "data2 = data.copy()\n",
    "a = np.asarray(data2['S (_g/L)'])\n",
    "b = np.asarray(data2['MW'])\n",
    "test_labels = []\n",
    "for i in range(a.shape[0]):\n",
    "        test_labels.append(np.log10(float(1000*float(a[i,])/float(b[i]))))\n",
    "data2['Solubility'] = test_labels\n",
    "data2 = data2.drop(columns=['S (_g/L)'])"
   ]
  },
  {
   "cell_type": "code",
   "execution_count": 103,
   "outputs": [],
   "source": [
    "smiles = data1['SMILES']\n",
    "smiles1 = data2['SMILES']"
   ],
   "metadata": {
    "collapsed": false,
    "pycharm": {
     "name": "#%%\n"
    }
   }
  },
  {
   "cell_type": "code",
   "execution_count": 104,
   "metadata": {},
   "outputs": [],
   "source": [
    "mols = [Chem.MolFromSmiles(j) for j in smiles]\n",
    "mols1 =  [Chem.MolFromSmiles(j) for j in smiles1]"
   ]
  },
  {
   "cell_type": "code",
   "execution_count": 105,
   "metadata": {},
   "outputs": [],
   "source": [
    "fps = [AllChem.GetMorganFingerprintAsBitVect(k, 2) for k in mols]\n",
    "fps1 = [AllChem.GetMorganFingerprintAsBitVect(k, 2) for k in mols1]"
   ]
  },
  {
   "cell_type": "code",
   "execution_count": 106,
   "metadata": {},
   "outputs": [],
   "source": [
    "fp_np = []\n",
    "for n in fps:\n",
    "    \n",
    "    arr = numpy.zeros((1,))\n",
    "    DataStructs.ConvertToNumpyArray(n, arr)\n",
    "    fp_np.append(arr)\n",
    "\n",
    "fp_np1 = []\n",
    "for n in fps1:\n",
    "\n",
    "    arr = numpy.zeros((1,))\n",
    "    DataStructs.ConvertToNumpyArray(n, arr)\n",
    "    fp_np1.append(arr)\n"
   ]
  },
  {
   "cell_type": "code",
   "execution_count": 107,
   "metadata": {},
   "outputs": [],
   "source": [
    "activity = data1.Solubility.values\n",
    "activity1 = data2.Solubility.values"
   ]
  },
  {
   "cell_type": "code",
   "execution_count": 108,
   "metadata": {},
   "outputs": [],
   "source": [
    "flt_activity = []\n",
    "\n",
    "for n in range(len(activity)):\n",
    "    \n",
    "    flt_activity.append(float(activity[n]))\n",
    "\n",
    "flt_activity1 = []\n",
    "\n",
    "for n in range(len(activity1)):\n",
    "\n",
    "    flt_activity1.append(float(activity1[n]))"
   ]
  },
  {
   "cell_type": "code",
   "execution_count": 109,
   "metadata": {},
   "outputs": [],
   "source": [
    "#train_features, test_features, train_labels, test_labels = train_test_split(fp_np, flt_activity, test_size=0.33,\n",
    "#                                                                            random_state=42)\n",
    "X = np.asarray(fp_np)\n",
    "y = flt_activity\n",
    "X1 =np.asarray(fp_np1)\n",
    "y1 = flt_activity1\n"
   ]
  },
  {
   "cell_type": "code",
   "execution_count": 110,
   "metadata": {
    "pycharm": {
     "name": "#%%\n"
    }
   },
   "outputs": [
    {
     "data": {
      "text/plain": "<Figure size 432x288 with 1 Axes>",
      "image/png": "[encoded data removed]"
     },
     "metadata": {
      "needs_background": "light"
     },
     "output_type": "display_data"
    },
    {
     "name": "stdout",
     "output_type": "stream",
     "text": [
      "(85, 2048)\n",
      "(85, 10)\n",
      "Train Data Score : 0.5034581631231545\n",
      "Test Data Score : -0.5072955427567083\n",
      "0.5034581631231545\n",
      "-0.5072955427567083\n",
      "[1860, 1952, 1946, 1339, 1944, 1490, 1351, 1519, 1354, 1335]\n",
      "\n",
      "\n"
     ]
    },
    {
     "data": {
      "text/plain": "<Figure size 432x288 with 1 Axes>",
      "image/png": "[encoded data removed]"
     },
     "metadata": {
      "needs_background": "light"
     },
     "output_type": "display_data"
    }
   ],
   "source": [
    "model = RandomForestRegressor(random_state=1, max_depth=10)\n",
    "model.fit(X,y)\n",
    "features = [i for i in range(X.shape[1])]\n",
    "importances = model.feature_importances_\n",
    "indices = np.argsort(importances)[-10:]  # top 10 features\n",
    "plt.title('Feature Importances')\n",
    "plt.barh(range(len(indices)), importances[indices], color='b', align='center')\n",
    "plt.yticks(range(len(indices)), [features[i] for i in indices])\n",
    "plt.xlabel('Relative Importance')\n",
    "plt.show()\n",
    "\n",
    "#scaler = StandardScaler()\n",
    "#scaler.fit(X)\n",
    "#X = scaler.fit_transform(X)\n",
    "#X1 = scaler.transform(X1)\n",
    "print(X.shape)\n",
    "X_reduced = []\n",
    "X1_reduced = []\n",
    "for i in range(10):\n",
    "    X_reduced.append(X[:,indices[i]])\n",
    "    X1_reduced.append(X1[:,indices[i]])\n",
    "X_reduced = np.asarray(X_reduced).T\n",
    "X1_reduced = np.asarray(X1_reduced).T\n",
    "print(X_reduced.shape)\n",
    "reg = LinearRegression().fit(X_reduced,y)\n",
    "#coeff_df = pandas.DataFrame(reg.coef_, ['MW','Sv','Si','nHDon','nHAcc','Hy'], columns=['Coefficient'])\n",
    "#print(coeff_df)\n",
    "print('Train Data Score :',reg.score(X_reduced, y))\n",
    "print('Test Data Score :',reg.score(X1_reduced,y1))\n",
    "plt.scatter(y, reg.predict(X_reduced), color='g')\n",
    "plt.scatter(y1, reg.predict(X1_reduced), color='b')\n",
    "plt.plot([-2.5,5], [-2.5,5])\n",
    "plt.show()\n",
    "\n",
    "\n",
    "print(reg.score(X_reduced,y))\n",
    "print(reg.score(X1_reduced,y1))\n",
    "\n",
    "importance = []\n",
    "for i in range(10):\n",
    "    importance.append(np.argsort(importances).tolist().index(i))\n",
    "\n",
    "print(importance)\n",
    "\n",
    "#\n",
    "#\n",
    "#model = sm.OLS(y,X)\n",
    "#results = model.fit()\n",
    "#print('Ordinary Least Squares Regression : Train data')\n",
    "#print(results.summary())\n",
    "#\n",
    "#model = sm.OLS(y1,X1)\n",
    "#results = model.fit()\n",
    "#print('Ordinary Least Squares Regression : Test data')\n",
    "#print(results.summary())\n",
    "#\n",
    "print('\\n')"
   ]
  },
  {
   "cell_type": "code",
   "execution_count": null,
   "outputs": [],
   "source": [],
   "metadata": {
    "collapsed": false,
    "pycharm": {
     "name": "#%%\n"
    }
   }
  },
  {
   "cell_type": "code",
   "execution_count": null,
   "outputs": [],
   "source": [
    "\n"
   ],
   "metadata": {
    "collapsed": false,
    "pycharm": {
     "name": "#%%\n"
    }
   }
  }
 ],
 "metadata": {
  "kernelspec": {
   "display_name": "Python 3",
   "language": "python",
   "name": "python3"
  },
  "language_info": {
   "codemirror_mode": {
    "name": "ipython",
    "version": 3
   },
   "file_extension": ".py",
   "mimetype": "text/x-python",
   "name": "python",
   "nbconvert_exporter": "python",
   "pygments_lexer": "ipython3",
   "version": "3.7.6"
  }
 },
 "nbformat": 4,
 "nbformat_minor": 4
}